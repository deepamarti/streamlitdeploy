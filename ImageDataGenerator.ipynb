{
 "cells": [
  {
   "cell_type": "code",
   "execution_count": null,
   "id": "abf0246a",
   "metadata": {},
   "outputs": [],
   "source": [
    "# Here are some ImageDataGenerators to run with specific models. The testing augmentation will always only be rescaling. \n",
    "\n",
    "\n",
    "# Just for ZCA \n",
    "train_image_data_generator = ImageDataGenerator(rescale = 1./255,\n",
    "                                          zca_epsilon=1e-06, zca_whitening=True)\n",
    "\n",
    "\n",
    "# 1)Sequential model\n",
    "train_image_data_generator = ImageDataGenerator(rescale = 1./255, rotation_range=30,\n",
    "                                          zoom_range=0.15, width_shift_range=0.2,\n",
    "                                          height_shift_range=0.2, shear_range=0.15,\n",
    "                                          horizontal_flip=True, fill_mode=\"nearest\")\n",
    "\n",
    "# 2) VGG\n",
    "train_image_data_generator = ImageDataGenerator(rescale = 1./255, rotation_range=20,\n",
    "                                          zoom_range=0.2, width_shift_range=0.1,\n",
    "                                          height_shift_range=0.1, shear_range=0.1,\n",
    "                                          horizontal_flip=True,vertical_flip=True, fill_mode=\"nearest\")\n",
    "\n",
    "# 3) Resnet\n",
    "train_image_data_generator = ImageDataGenerator(rescale = 1./255, rotation_range=10,\n",
    "                                          zoom_range=0.1, width_shift_range=0.1,\n",
    "                                          height_shift_range=0.2,\n",
    "                                          horizontal_flip=True,brightness_range=[1.0,1.5] ,fill_mode=\"nearest\")"
   ]
  }
 ],
 "metadata": {
  "kernelspec": {
   "display_name": "Python 3",
   "language": "python",
   "name": "python3"
  },
  "language_info": {
   "codemirror_mode": {
    "name": "ipython",
    "version": 3
   },
   "file_extension": ".py",
   "mimetype": "text/x-python",
   "name": "python",
   "nbconvert_exporter": "python",
   "pygments_lexer": "ipython3",
   "version": "3.8.8"
  }
 },
 "nbformat": 4,
 "nbformat_minor": 5
}
