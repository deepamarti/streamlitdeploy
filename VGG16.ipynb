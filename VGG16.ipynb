{
 "cells": [
  {
   "cell_type": "code",
   "execution_count": 1,
   "metadata": {},
   "outputs": [
    {
     "name": "stdout",
     "output_type": "stream",
     "text": [
      "Found 12800 images belonging to 16 classes.\n",
      "Found 3200 images belonging to 16 classes.\n"
     ]
    }
   ],
   "source": [
    "import tensorflow as tf\n",
    "from tensorflow.keras.preprocessing.image import ImageDataGenerator\n",
    "\n",
    "# Set the seed\n",
    "tf.random.set_seed(42)\n",
    "\n",
    "# Preprocess data\n",
    "train_datagen = ImageDataGenerator(rescale=1./255)\n",
    "valid_datagen = ImageDataGenerator(rescale=1./255)\n",
    "\n",
    "# Setup the train and test directories\n",
    "train_dir = \"FRUIT-16K-PREPROCESSED/train/\" # 80% of FRUIT-16K\n",
    "test_dir = \"FRUIT-16K-PREPROCESSED/test/\" # 20% of FRUIT-16K\n",
    "\n",
    "# Import data from directories and turn it into batches\n",
    "train_data = train_datagen.flow_from_directory(train_dir,\n",
    "                                               batch_size=32,\n",
    "                                               target_size=(224, 224),\n",
    "                                               class_mode=\"categorical\",\n",
    "                                               seed=42)\n",
    "\n",
    "valid_data = valid_datagen.flow_from_directory(test_dir,\n",
    "                                               batch_size=32,\n",
    "                                               target_size=(224, 224),\n",
    "                                               class_mode=\"categorical\",\n",
    "                                               seed=42)"
   ]
  },
  {
   "cell_type": "code",
   "execution_count": 2,
   "metadata": {},
   "outputs": [],
   "source": [
    "checkpoint_filepath = 'VGG16_callbacks/'\n",
    "VGG16_checkpoint_callback = tf.keras.callbacks.ModelCheckpoint(\n",
    "    filepath=checkpoint_filepath,\n",
    "    save_weights_only=True,\n",
    "    monitor='val_accuracy',\n",
    "    mode='max',\n",
    "    save_best_only=True)"
   ]
  },
  {
   "cell_type": "code",
   "execution_count": 3,
   "metadata": {},
   "outputs": [],
   "source": [
    "# Setup EarlyStopping callback to stop training if model's val_loss doesn't improve for 3 epochs\n",
    "early_stopping = tf.keras.callbacks.EarlyStopping(monitor=\"val_loss\", # watch the val loss metric\n",
    "                                                  patience=3) # if val loss decreases for 3 epochs in a row, stop training"
   ]
  },
  {
   "cell_type": "code",
   "execution_count": 4,
   "metadata": {},
   "outputs": [
    {
     "name": "stdout",
     "output_type": "stream",
     "text": [
      "Shape after base_model: (None, 7, 7, 512)\n",
      "After GlobalAveragePooling2D(): (None, 512)\n",
      "Epoch 1/100\n",
      "400/400 [==============================] - 31s 64ms/step - loss: 2.1742 - accuracy: 0.5039 - val_loss: 1.7228 - val_accuracy: 0.7250\n",
      "Epoch 2/100\n",
      "400/400 [==============================] - 25s 63ms/step - loss: 1.4649 - accuracy: 0.7437 - val_loss: 1.2699 - val_accuracy: 0.7831\n",
      "Epoch 3/100\n",
      "400/400 [==============================] - 25s 63ms/step - loss: 1.1217 - accuracy: 0.8075 - val_loss: 1.0189 - val_accuracy: 0.8125\n",
      "Epoch 4/100\n",
      "400/400 [==============================] - 25s 62ms/step - loss: 0.9160 - accuracy: 0.8395 - val_loss: 0.8541 - val_accuracy: 0.8469\n",
      "Epoch 5/100\n",
      "400/400 [==============================] - 25s 63ms/step - loss: 0.7766 - accuracy: 0.8623 - val_loss: 0.7345 - val_accuracy: 0.8656\n",
      "Epoch 6/100\n",
      "400/400 [==============================] - 25s 63ms/step - loss: 0.6735 - accuracy: 0.8796 - val_loss: 0.6521 - val_accuracy: 0.8722\n",
      "Epoch 7/100\n",
      "400/400 [==============================] - 25s 63ms/step - loss: 0.5952 - accuracy: 0.8954 - val_loss: 0.5800 - val_accuracy: 0.8884\n",
      "Epoch 8/100\n",
      "400/400 [==============================] - 25s 63ms/step - loss: 0.5328 - accuracy: 0.9038 - val_loss: 0.5263 - val_accuracy: 0.8978\n",
      "Epoch 9/100\n",
      "400/400 [==============================] - 25s 63ms/step - loss: 0.4816 - accuracy: 0.9155 - val_loss: 0.4794 - val_accuracy: 0.9013\n",
      "Epoch 10/100\n",
      "400/400 [==============================] - 26s 64ms/step - loss: 0.4395 - accuracy: 0.9245 - val_loss: 0.4386 - val_accuracy: 0.9116\n",
      "Epoch 11/100\n",
      "400/400 [==============================] - 25s 63ms/step - loss: 0.4034 - accuracy: 0.9298 - val_loss: 0.4143 - val_accuracy: 0.9191\n",
      "Epoch 12/100\n",
      "400/400 [==============================] - 25s 62ms/step - loss: 0.3720 - accuracy: 0.9349 - val_loss: 0.3760 - val_accuracy: 0.9287\n",
      "Epoch 13/100\n",
      "400/400 [==============================] - 25s 63ms/step - loss: 0.3451 - accuracy: 0.9400 - val_loss: 0.3515 - val_accuracy: 0.9319\n",
      "Epoch 14/100\n",
      "400/400 [==============================] - 25s 63ms/step - loss: 0.3209 - accuracy: 0.9458 - val_loss: 0.3300 - val_accuracy: 0.9375\n",
      "Epoch 15/100\n",
      "400/400 [==============================] - 25s 63ms/step - loss: 0.3009 - accuracy: 0.9486 - val_loss: 0.3160 - val_accuracy: 0.9356\n",
      "Epoch 16/100\n",
      "400/400 [==============================] - 25s 62ms/step - loss: 0.2817 - accuracy: 0.9532 - val_loss: 0.2905 - val_accuracy: 0.9478\n",
      "Epoch 17/100\n",
      "400/400 [==============================] - 25s 63ms/step - loss: 0.2650 - accuracy: 0.9561 - val_loss: 0.2744 - val_accuracy: 0.9528\n",
      "Epoch 18/100\n",
      "400/400 [==============================] - 25s 63ms/step - loss: 0.2497 - accuracy: 0.9594 - val_loss: 0.2611 - val_accuracy: 0.9522\n",
      "Epoch 19/100\n",
      "400/400 [==============================] - 25s 63ms/step - loss: 0.2362 - accuracy: 0.9621 - val_loss: 0.2505 - val_accuracy: 0.9547\n",
      "Epoch 20/100\n",
      "400/400 [==============================] - 25s 63ms/step - loss: 0.2238 - accuracy: 0.9641 - val_loss: 0.2351 - val_accuracy: 0.9606\n",
      "Epoch 21/100\n",
      "400/400 [==============================] - 25s 63ms/step - loss: 0.2125 - accuracy: 0.9662 - val_loss: 0.2325 - val_accuracy: 0.9581\n",
      "Epoch 22/100\n",
      "400/400 [==============================] - 25s 63ms/step - loss: 0.2032 - accuracy: 0.9682 - val_loss: 0.2163 - val_accuracy: 0.9638\n",
      "Epoch 23/100\n",
      "400/400 [==============================] - 25s 63ms/step - loss: 0.1929 - accuracy: 0.9717 - val_loss: 0.2051 - val_accuracy: 0.9659\n",
      "Epoch 24/100\n",
      "400/400 [==============================] - 25s 62ms/step - loss: 0.1842 - accuracy: 0.9721 - val_loss: 0.1974 - val_accuracy: 0.9675\n",
      "Epoch 25/100\n",
      "400/400 [==============================] - 25s 63ms/step - loss: 0.1762 - accuracy: 0.9749 - val_loss: 0.1899 - val_accuracy: 0.9700\n",
      "Epoch 26/100\n",
      "400/400 [==============================] - 25s 63ms/step - loss: 0.1683 - accuracy: 0.9755 - val_loss: 0.1827 - val_accuracy: 0.9712\n",
      "Epoch 27/100\n",
      "400/400 [==============================] - 25s 63ms/step - loss: 0.1620 - accuracy: 0.9758 - val_loss: 0.1768 - val_accuracy: 0.9703\n",
      "Epoch 28/100\n",
      "400/400 [==============================] - 25s 63ms/step - loss: 0.1556 - accuracy: 0.9779 - val_loss: 0.1711 - val_accuracy: 0.9700\n",
      "Epoch 29/100\n",
      "400/400 [==============================] - 25s 63ms/step - loss: 0.1497 - accuracy: 0.9784 - val_loss: 0.1644 - val_accuracy: 0.9722\n",
      "Epoch 30/100\n",
      "400/400 [==============================] - 25s 63ms/step - loss: 0.1446 - accuracy: 0.9795 - val_loss: 0.1597 - val_accuracy: 0.9734\n",
      "Epoch 31/100\n",
      "400/400 [==============================] - 25s 63ms/step - loss: 0.1388 - accuracy: 0.9803 - val_loss: 0.1546 - val_accuracy: 0.9741\n",
      "Epoch 32/100\n",
      "400/400 [==============================] - 25s 63ms/step - loss: 0.1340 - accuracy: 0.9816 - val_loss: 0.1507 - val_accuracy: 0.9728\n",
      "Epoch 33/100\n",
      "400/400 [==============================] - 25s 63ms/step - loss: 0.1294 - accuracy: 0.9827 - val_loss: 0.1454 - val_accuracy: 0.9778\n",
      "Epoch 34/100\n",
      "400/400 [==============================] - 25s 63ms/step - loss: 0.1246 - accuracy: 0.9827 - val_loss: 0.1408 - val_accuracy: 0.9759\n",
      "Epoch 35/100\n",
      "400/400 [==============================] - 25s 63ms/step - loss: 0.1209 - accuracy: 0.9840 - val_loss: 0.1387 - val_accuracy: 0.9744\n",
      "Epoch 36/100\n",
      "400/400 [==============================] - 25s 63ms/step - loss: 0.1170 - accuracy: 0.9852 - val_loss: 0.1336 - val_accuracy: 0.9781\n",
      "Epoch 37/100\n",
      "400/400 [==============================] - 25s 63ms/step - loss: 0.1130 - accuracy: 0.9857 - val_loss: 0.1314 - val_accuracy: 0.9741\n",
      "Epoch 38/100\n",
      "400/400 [==============================] - 25s 62ms/step - loss: 0.1100 - accuracy: 0.9854 - val_loss: 0.1255 - val_accuracy: 0.9778\n",
      "Epoch 39/100\n",
      "400/400 [==============================] - 25s 63ms/step - loss: 0.1066 - accuracy: 0.9863 - val_loss: 0.1243 - val_accuracy: 0.9775\n",
      "Epoch 40/100\n",
      "400/400 [==============================] - 25s 62ms/step - loss: 0.1037 - accuracy: 0.9866 - val_loss: 0.1210 - val_accuracy: 0.9797\n",
      "Epoch 41/100\n",
      "400/400 [==============================] - 25s 63ms/step - loss: 0.1007 - accuracy: 0.9875 - val_loss: 0.1195 - val_accuracy: 0.9794\n",
      "Epoch 42/100\n",
      "400/400 [==============================] - 25s 62ms/step - loss: 0.0978 - accuracy: 0.9872 - val_loss: 0.1133 - val_accuracy: 0.9812\n",
      "Epoch 43/100\n",
      "400/400 [==============================] - 25s 63ms/step - loss: 0.0949 - accuracy: 0.9880 - val_loss: 0.1118 - val_accuracy: 0.9803\n",
      "Epoch 44/100\n",
      "400/400 [==============================] - 25s 63ms/step - loss: 0.0924 - accuracy: 0.9887 - val_loss: 0.1103 - val_accuracy: 0.9806\n",
      "Epoch 45/100\n",
      "400/400 [==============================] - 25s 63ms/step - loss: 0.0894 - accuracy: 0.9892 - val_loss: 0.1088 - val_accuracy: 0.9809\n",
      "Epoch 46/100\n",
      "400/400 [==============================] - 25s 63ms/step - loss: 0.0874 - accuracy: 0.9890 - val_loss: 0.1060 - val_accuracy: 0.9825\n",
      "Epoch 47/100\n",
      "400/400 [==============================] - 25s 63ms/step - loss: 0.0854 - accuracy: 0.9895 - val_loss: 0.1030 - val_accuracy: 0.9800\n",
      "Epoch 48/100\n",
      "400/400 [==============================] - 25s 63ms/step - loss: 0.0829 - accuracy: 0.9892 - val_loss: 0.0998 - val_accuracy: 0.9822\n",
      "Epoch 49/100\n",
      "400/400 [==============================] - 25s 63ms/step - loss: 0.0807 - accuracy: 0.9905 - val_loss: 0.0991 - val_accuracy: 0.9806\n",
      "Epoch 50/100\n",
      "400/400 [==============================] - 25s 63ms/step - loss: 0.0790 - accuracy: 0.9902 - val_loss: 0.0962 - val_accuracy: 0.9828\n",
      "Epoch 51/100\n",
      "400/400 [==============================] - 25s 63ms/step - loss: 0.0769 - accuracy: 0.9909 - val_loss: 0.0955 - val_accuracy: 0.9816\n",
      "Epoch 52/100\n",
      "400/400 [==============================] - 25s 63ms/step - loss: 0.0751 - accuracy: 0.9910 - val_loss: 0.0927 - val_accuracy: 0.9831\n",
      "Epoch 53/100\n",
      "400/400 [==============================] - 25s 63ms/step - loss: 0.0731 - accuracy: 0.9908 - val_loss: 0.0922 - val_accuracy: 0.9828\n",
      "Epoch 54/100\n",
      "400/400 [==============================] - 25s 63ms/step - loss: 0.0714 - accuracy: 0.9919 - val_loss: 0.0899 - val_accuracy: 0.9822\n",
      "Epoch 55/100\n",
      "400/400 [==============================] - 25s 63ms/step - loss: 0.0699 - accuracy: 0.9916 - val_loss: 0.0884 - val_accuracy: 0.9834\n",
      "Epoch 56/100\n",
      "400/400 [==============================] - 25s 63ms/step - loss: 0.0683 - accuracy: 0.9923 - val_loss: 0.0869 - val_accuracy: 0.9844\n",
      "Epoch 57/100\n",
      "400/400 [==============================] - 25s 63ms/step - loss: 0.0671 - accuracy: 0.9918 - val_loss: 0.0871 - val_accuracy: 0.9825\n",
      "Epoch 58/100\n",
      "400/400 [==============================] - 25s 63ms/step - loss: 0.0652 - accuracy: 0.9930 - val_loss: 0.0852 - val_accuracy: 0.9834\n",
      "Epoch 59/100\n",
      "400/400 [==============================] - 25s 63ms/step - loss: 0.0639 - accuracy: 0.9926 - val_loss: 0.0831 - val_accuracy: 0.9841\n",
      "Epoch 60/100\n",
      "400/400 [==============================] - 25s 63ms/step - loss: 0.0623 - accuracy: 0.9929 - val_loss: 0.0806 - val_accuracy: 0.9859\n",
      "Epoch 61/100\n",
      "400/400 [==============================] - 25s 63ms/step - loss: 0.0613 - accuracy: 0.9934 - val_loss: 0.0794 - val_accuracy: 0.9847\n",
      "Epoch 62/100\n",
      "400/400 [==============================] - 25s 63ms/step - loss: 0.0595 - accuracy: 0.9937 - val_loss: 0.0781 - val_accuracy: 0.9837\n",
      "Epoch 63/100\n",
      "400/400 [==============================] - 25s 63ms/step - loss: 0.0588 - accuracy: 0.9937 - val_loss: 0.0770 - val_accuracy: 0.9850\n",
      "Epoch 64/100\n",
      "400/400 [==============================] - 25s 63ms/step - loss: 0.0574 - accuracy: 0.9935 - val_loss: 0.0776 - val_accuracy: 0.9847\n",
      "Epoch 65/100\n",
      "400/400 [==============================] - 25s 63ms/step - loss: 0.0563 - accuracy: 0.9938 - val_loss: 0.0745 - val_accuracy: 0.9856\n",
      "Epoch 66/100\n",
      "400/400 [==============================] - 25s 63ms/step - loss: 0.0550 - accuracy: 0.9945 - val_loss: 0.0745 - val_accuracy: 0.9847\n",
      "Epoch 67/100\n",
      "400/400 [==============================] - 25s 63ms/step - loss: 0.0539 - accuracy: 0.9943 - val_loss: 0.0726 - val_accuracy: 0.9847\n",
      "Epoch 68/100\n",
      "400/400 [==============================] - 26s 65ms/step - loss: 0.0529 - accuracy: 0.9945 - val_loss: 0.0737 - val_accuracy: 0.9844\n",
      "Epoch 69/100\n",
      "400/400 [==============================] - 26s 66ms/step - loss: 0.0519 - accuracy: 0.9950 - val_loss: 0.0717 - val_accuracy: 0.9850\n",
      "Epoch 70/100\n",
      "400/400 [==============================] - 27s 69ms/step - loss: 0.0506 - accuracy: 0.9951 - val_loss: 0.0693 - val_accuracy: 0.9859\n",
      "Epoch 71/100\n",
      "400/400 [==============================] - 26s 64ms/step - loss: 0.0498 - accuracy: 0.9952 - val_loss: 0.0694 - val_accuracy: 0.9856\n",
      "Epoch 72/100\n",
      "400/400 [==============================] - 26s 65ms/step - loss: 0.0493 - accuracy: 0.9951 - val_loss: 0.0677 - val_accuracy: 0.9869\n",
      "Epoch 73/100\n",
      "400/400 [==============================] - 25s 62ms/step - loss: 0.0479 - accuracy: 0.9955 - val_loss: 0.0673 - val_accuracy: 0.9866\n",
      "Epoch 74/100\n",
      "400/400 [==============================] - 25s 62ms/step - loss: 0.0470 - accuracy: 0.9952 - val_loss: 0.0658 - val_accuracy: 0.9862\n",
      "Epoch 75/100\n",
      "400/400 [==============================] - 26s 64ms/step - loss: 0.0464 - accuracy: 0.9952 - val_loss: 0.0664 - val_accuracy: 0.9866\n",
      "Epoch 76/100\n",
      "400/400 [==============================] - 24s 61ms/step - loss: 0.0455 - accuracy: 0.9953 - val_loss: 0.0648 - val_accuracy: 0.9850\n",
      "Epoch 77/100\n",
      "400/400 [==============================] - 24s 61ms/step - loss: 0.0445 - accuracy: 0.9955 - val_loss: 0.0636 - val_accuracy: 0.9862\n",
      "Epoch 78/100\n",
      "400/400 [==============================] - 25s 64ms/step - loss: 0.0436 - accuracy: 0.9962 - val_loss: 0.0636 - val_accuracy: 0.9866\n",
      "Epoch 79/100\n",
      "400/400 [==============================] - 24s 61ms/step - loss: 0.0428 - accuracy: 0.9955 - val_loss: 0.0635 - val_accuracy: 0.9881\n",
      "Epoch 80/100\n",
      "400/400 [==============================] - 26s 65ms/step - loss: 0.0420 - accuracy: 0.9962 - val_loss: 0.0618 - val_accuracy: 0.9862\n",
      "Epoch 81/100\n",
      "400/400 [==============================] - 26s 65ms/step - loss: 0.0416 - accuracy: 0.9964 - val_loss: 0.0604 - val_accuracy: 0.9869\n",
      "Epoch 82/100\n",
      "400/400 [==============================] - 25s 63ms/step - loss: 0.0407 - accuracy: 0.9967 - val_loss: 0.0608 - val_accuracy: 0.9866\n",
      "Epoch 83/100\n",
      "400/400 [==============================] - 26s 65ms/step - loss: 0.0399 - accuracy: 0.9967 - val_loss: 0.0602 - val_accuracy: 0.9862\n",
      "Epoch 84/100\n",
      "400/400 [==============================] - 25s 64ms/step - loss: 0.0394 - accuracy: 0.9970 - val_loss: 0.0576 - val_accuracy: 0.9875\n",
      "Epoch 85/100\n",
      "400/400 [==============================] - 24s 60ms/step - loss: 0.0385 - accuracy: 0.9971 - val_loss: 0.0594 - val_accuracy: 0.9856\n",
      "Epoch 86/100\n",
      "400/400 [==============================] - 26s 66ms/step - loss: 0.0380 - accuracy: 0.9968 - val_loss: 0.0574 - val_accuracy: 0.9862\n",
      "Epoch 87/100\n",
      "400/400 [==============================] - 28s 70ms/step - loss: 0.0373 - accuracy: 0.9968 - val_loss: 0.0571 - val_accuracy: 0.9866\n",
      "Epoch 88/100\n",
      "400/400 [==============================] - 25s 62ms/step - loss: 0.0367 - accuracy: 0.9971 - val_loss: 0.0557 - val_accuracy: 0.9875\n",
      "Epoch 89/100\n",
      "400/400 [==============================] - 26s 64ms/step - loss: 0.0358 - accuracy: 0.9975 - val_loss: 0.0566 - val_accuracy: 0.9891\n",
      "Epoch 90/100\n",
      "400/400 [==============================] - 25s 61ms/step - loss: 0.0355 - accuracy: 0.9971 - val_loss: 0.0549 - val_accuracy: 0.9872\n",
      "Epoch 91/100\n",
      "400/400 [==============================] - 27s 68ms/step - loss: 0.0350 - accuracy: 0.9971 - val_loss: 0.0543 - val_accuracy: 0.9884\n",
      "Epoch 92/100\n",
      "400/400 [==============================] - 25s 63ms/step - loss: 0.0343 - accuracy: 0.9969 - val_loss: 0.0545 - val_accuracy: 0.9884\n",
      "Epoch 93/100\n",
      "400/400 [==============================] - 26s 66ms/step - loss: 0.0338 - accuracy: 0.9973 - val_loss: 0.0529 - val_accuracy: 0.9891\n",
      "Epoch 94/100\n",
      "400/400 [==============================] - 26s 65ms/step - loss: 0.0334 - accuracy: 0.9977 - val_loss: 0.0526 - val_accuracy: 0.9884\n",
      "Epoch 95/100\n",
      "400/400 [==============================] - 26s 65ms/step - loss: 0.0327 - accuracy: 0.9976 - val_loss: 0.0527 - val_accuracy: 0.9884\n",
      "Epoch 96/100\n",
      "400/400 [==============================] - 26s 64ms/step - loss: 0.0321 - accuracy: 0.9978 - val_loss: 0.0510 - val_accuracy: 0.9894\n",
      "Epoch 97/100\n",
      "400/400 [==============================] - 26s 64ms/step - loss: 0.0316 - accuracy: 0.9974 - val_loss: 0.0516 - val_accuracy: 0.9875\n",
      "Epoch 98/100\n",
      "400/400 [==============================] - 25s 63ms/step - loss: 0.0311 - accuracy: 0.9977 - val_loss: 0.0508 - val_accuracy: 0.9887\n",
      "Epoch 99/100\n",
      "400/400 [==============================] - 25s 63ms/step - loss: 0.0308 - accuracy: 0.9977 - val_loss: 0.0502 - val_accuracy: 0.9875\n",
      "Epoch 100/100\n",
      "400/400 [==============================] - 25s 63ms/step - loss: 0.0302 - accuracy: 0.9981 - val_loss: 0.0488 - val_accuracy: 0.9906\n"
     ]
    }
   ],
   "source": [
    "base_model = tf.keras.applications.vgg16.VGG16(include_top=False, weights='imagenet')\n",
    "base_model.trainable = False\n",
    "\n",
    "inputs = tf.keras.layers.Input(shape=(224, 224, 3), name=\"input_layer\")\n",
    "\n",
    "x = base_model(inputs)\n",
    "print(f\"Shape after base_model: {x.shape}\")\n",
    "\n",
    "x = tf.keras.layers.GlobalAveragePooling2D(name=\"global_average_pooling_layer\")(x)\n",
    "print(f\"After GlobalAveragePooling2D(): {x.shape}\")\n",
    "\n",
    "outputs = tf.keras.layers.Dense(16, activation=\"softmax\", name=\"output_layer\")(x)\n",
    "\n",
    "VGG16_model = tf.keras.Model(inputs, outputs)\n",
    "\n",
    "VGG16_model.compile(loss=\"categorical_crossentropy\",\n",
    "                       optimizer=tf.keras.optimizers.Adam(),\n",
    "                       metrics=[\"accuracy\"])\n",
    "\n",
    "history_1 = VGG16_model.fit(train_data,\n",
    "                               epochs=100,\n",
    "                               validation_data=valid_data,\n",
    "                               validation_steps=len(valid_data),\n",
    "                               callbacks=[VGG16_checkpoint_callback, early_stopping])"
   ]
  },
  {
   "cell_type": "code",
   "execution_count": 5,
   "metadata": {},
   "outputs": [
    {
     "data": {
      "text/plain": [
       "<tensorflow.python.training.tracking.util.CheckpointLoadStatus at 0x1f5067848b0>"
      ]
     },
     "execution_count": 5,
     "metadata": {},
     "output_type": "execute_result"
    }
   ],
   "source": [
    "VGG16_model.load_weights(checkpoint_filepath)"
   ]
  },
  {
   "cell_type": "code",
   "execution_count": 6,
   "metadata": {},
   "outputs": [],
   "source": [
    "VGG16_model.save(\"VGG16_model.h5\")"
   ]
  },
  {
   "cell_type": "code",
   "execution_count": 7,
   "metadata": {},
   "outputs": [],
   "source": [
    "import matplotlib.pyplot as plt"
   ]
  },
  {
   "cell_type": "code",
   "execution_count": 8,
   "metadata": {},
   "outputs": [
    {
     "data": {
      "image/png": "[encoded data removed]",
      "text/plain": [
       "<Figure size 432x288 with 1 Axes>"
      ]
     },
     "metadata": {
      "needs_background": "light"
     },
     "output_type": "display_data"
    }
   ],
   "source": [
    "plt.plot(history_1.epoch, history_1.history[\"loss\"], \"y\", label=\"Training Loss\")\n",
    "plt.plot(history_1.epoch, history_1.history[\"val_loss\"], \"r\", label=\"Validation Loss\")\n",
    "plt.title(\"Training vs Validation Loss\")\n",
    "plt.xlabel(\"Epochs\")\n",
    "plt.ylabel(\"Loss\")\n",
    "plt.legend(loc=\"upper right\")\n",
    "plt.show()"
   ]
  },
  {
   "cell_type": "code",
   "execution_count": 9,
   "metadata": {},
   "outputs": [
    {
     "data": {
      "image/png": "[encoded data removed]",
      "text/plain": [
       "<Figure size 432x288 with 1 Axes>"
      ]
     },
     "metadata": {
      "needs_background": "light"
     },
     "output_type": "display_data"
    }
   ],
   "source": [
    "plt.plot(history_1.epoch, history_1.history[\"accuracy\"], \"y\", label=\"Training Accuracy\")\n",
    "plt.plot(history_1.epoch, history_1.history[\"val_accuracy\"], \"r\", label=\"Validation Accuracy\")\n",
    "plt.title(\"Training vs Validation Accuracy\")\n",
    "plt.xlabel(\"Epochs\")\n",
    "plt.ylabel(\"Accuracy\")\n",
    "plt.legend(loc=\"lower right\")\n",
    "plt.show()"
   ]
  }
 ],
 "metadata": {
  "interpreter": {
   "hash": "fb1492e6def891308ecbc0d3c1e81a09a0349f9b8052fb76570664c80f1546db"
  },
  "kernelspec": {
   "display_name": "Python 3.9.7 64-bit ('tf-gpu': conda)",
   "language": "python",
   "name": "python3"
  },
  "language_info": {
   "codemirror_mode": {
    "name": "ipython",
    "version": 3
   },
   "file_extension": ".py",
   "mimetype": "text/x-python",
   "name": "python",
   "nbconvert_exporter": "python",
   "pygments_lexer": "ipython3",
   "version": "3.9.7"
  },
  "orig_nbformat": 4
 },
 "nbformat": 4,
 "nbformat_minor": 2
}
