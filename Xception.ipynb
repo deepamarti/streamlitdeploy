{
 "cells": [
  {
   "cell_type": "code",
   "execution_count": 1,
   "metadata": {},
   "outputs": [
    {
     "name": "stdout",
     "output_type": "stream",
     "text": [
      "Found 12800 images belonging to 16 classes.\n",
      "Found 3200 images belonging to 16 classes.\n"
     ]
    }
   ],
   "source": [
    "import tensorflow as tf\n",
    "from tensorflow.keras.preprocessing.image import ImageDataGenerator\n",
    "\n",
    "# Set the seed\n",
    "tf.random.set_seed(42)\n",
    "\n",
    "# Preprocess data\n",
    "train_datagen = ImageDataGenerator(rescale=1./255)\n",
    "valid_datagen = ImageDataGenerator(rescale=1./255)\n",
    "\n",
    "# Setup the train and test directories\n",
    "train_dir = \"FRUIT-16K-PREPROCESSED/train/\" # 80% of FRUIT-16K\n",
    "test_dir = \"FRUIT-16K-PREPROCESSED/test/\" # 20% of FRUIT-16K\n",
    "\n",
    "# Import data from directories and turn it into batches\n",
    "train_data = train_datagen.flow_from_directory(train_dir,\n",
    "                                               batch_size=32,\n",
    "                                               target_size=(224, 224),\n",
    "                                               class_mode=\"categorical\",\n",
    "                                               seed=42)\n",
    "\n",
    "valid_data = valid_datagen.flow_from_directory(test_dir,\n",
    "                                               batch_size=32,\n",
    "                                               target_size=(224, 224),\n",
    "                                               class_mode=\"categorical\",\n",
    "                                               seed=42)"
   ]
  },
  {
   "cell_type": "code",
   "execution_count": 2,
   "metadata": {},
   "outputs": [],
   "source": [
    "checkpoint_filepath = 'Xception_callbacks/'\n",
    "Xception_checkpoint_callback = tf.keras.callbacks.ModelCheckpoint(\n",
    "    filepath=checkpoint_filepath,\n",
    "    save_weights_only=True,\n",
    "    monitor='val_accuracy',\n",
    "    mode='max',\n",
    "    save_best_only=True)"
   ]
  },
  {
   "cell_type": "code",
   "execution_count": 3,
   "metadata": {},
   "outputs": [],
   "source": [
    "# Setup EarlyStopping callback to stop training if model's val_loss doesn't improve for 3 epochs\n",
    "early_stopping = tf.keras.callbacks.EarlyStopping(monitor=\"val_loss\", # watch the val loss metric\n",
    "                                                  patience=3) # if val loss decreases for 3 epochs in a row, stop training"
   ]
  },
  {
   "cell_type": "code",
   "execution_count": 4,
   "metadata": {},
   "outputs": [
    {
     "name": "stdout",
     "output_type": "stream",
     "text": [
      "Shape after base_model: (None, 7, 7, 2048)\n",
      "After GlobalAveragePooling2D(): (None, 2048)\n",
      "Epoch 1/20\n",
      "400/400 [==============================] - 46s 102ms/step - loss: 0.3488 - accuracy: 0.9275 - val_loss: 0.1112 - val_accuracy: 0.9775\n",
      "Epoch 2/20\n",
      "400/400 [==============================] - 28s 71ms/step - loss: 0.0700 - accuracy: 0.9895 - val_loss: 0.0626 - val_accuracy: 0.9875\n",
      "Epoch 3/20\n",
      "400/400 [==============================] - 29s 71ms/step - loss: 0.0394 - accuracy: 0.9953 - val_loss: 0.0417 - val_accuracy: 0.9925\n",
      "Epoch 4/20\n",
      "400/400 [==============================] - 28s 71ms/step - loss: 0.0252 - accuracy: 0.9973 - val_loss: 0.0338 - val_accuracy: 0.9953\n",
      "Epoch 5/20\n",
      "400/400 [==============================] - 28s 70ms/step - loss: 0.0174 - accuracy: 0.9987 - val_loss: 0.0302 - val_accuracy: 0.9944\n",
      "Epoch 6/20\n",
      "400/400 [==============================] - 28s 70ms/step - loss: 0.0129 - accuracy: 0.9995 - val_loss: 0.0271 - val_accuracy: 0.9953\n",
      "Epoch 7/20\n",
      "400/400 [==============================] - 28s 69ms/step - loss: 0.0100 - accuracy: 0.9997 - val_loss: 0.0235 - val_accuracy: 0.9962\n",
      "Epoch 8/20\n",
      "400/400 [==============================] - 28s 70ms/step - loss: 0.0075 - accuracy: 0.9999 - val_loss: 0.0207 - val_accuracy: 0.9966\n",
      "Epoch 9/20\n",
      "400/400 [==============================] - 28s 70ms/step - loss: 0.0058 - accuracy: 1.0000 - val_loss: 0.0196 - val_accuracy: 0.9959\n",
      "Epoch 10/20\n",
      "400/400 [==============================] - 28s 70ms/step - loss: 0.0046 - accuracy: 1.0000 - val_loss: 0.0174 - val_accuracy: 0.9972\n",
      "Epoch 11/20\n",
      "400/400 [==============================] - 29s 71ms/step - loss: 0.0038 - accuracy: 1.0000 - val_loss: 0.0172 - val_accuracy: 0.9969\n",
      "Epoch 12/20\n",
      "400/400 [==============================] - 28s 71ms/step - loss: 0.0031 - accuracy: 1.0000 - val_loss: 0.0157 - val_accuracy: 0.9978\n",
      "Epoch 13/20\n",
      "400/400 [==============================] - 27s 68ms/step - loss: 0.0026 - accuracy: 1.0000 - val_loss: 0.0161 - val_accuracy: 0.9969\n",
      "Epoch 14/20\n",
      "400/400 [==============================] - 28s 69ms/step - loss: 0.0021 - accuracy: 1.0000 - val_loss: 0.0157 - val_accuracy: 0.9962\n",
      "Epoch 15/20\n",
      "400/400 [==============================] - 28s 69ms/step - loss: 0.0017 - accuracy: 1.0000 - val_loss: 0.0156 - val_accuracy: 0.9962\n",
      "Epoch 16/20\n",
      "400/400 [==============================] - 28s 69ms/step - loss: 0.0014 - accuracy: 1.0000 - val_loss: 0.0152 - val_accuracy: 0.9962\n",
      "Epoch 17/20\n",
      "400/400 [==============================] - 27s 68ms/step - loss: 0.0011 - accuracy: 1.0000 - val_loss: 0.0148 - val_accuracy: 0.9972\n",
      "Epoch 18/20\n",
      "400/400 [==============================] - 27s 68ms/step - loss: 9.5235e-04 - accuracy: 1.0000 - val_loss: 0.0154 - val_accuracy: 0.9962\n",
      "Epoch 19/20\n",
      "400/400 [==============================] - 28s 69ms/step - loss: 8.1945e-04 - accuracy: 1.0000 - val_loss: 0.0151 - val_accuracy: 0.9959\n",
      "Epoch 20/20\n",
      "400/400 [==============================] - 27s 68ms/step - loss: 6.8249e-04 - accuracy: 1.0000 - val_loss: 0.0141 - val_accuracy: 0.9969\n"
     ]
    }
   ],
   "source": [
    "base_model = tf.keras.applications.xception.Xception(include_top=False, input_shape=(224, 224, 3), weights='imagenet')\n",
    "base_model.trainable = False\n",
    "\n",
    "inputs = tf.keras.layers.Input(shape=(224, 224, 3), name=\"input_layer\")\n",
    "\n",
    "x = base_model(inputs)\n",
    "print(f\"Shape after base_model: {x.shape}\")\n",
    "\n",
    "x = tf.keras.layers.GlobalAveragePooling2D(name=\"global_average_pooling_layer\")(x)\n",
    "print(f\"After GlobalAveragePooling2D(): {x.shape}\")\n",
    "\n",
    "outputs = tf.keras.layers.Dense(16, activation=\"softmax\", name=\"output_layer\")(x)\n",
    "\n",
    "Xception_model = tf.keras.Model(inputs, outputs)\n",
    "\n",
    "Xception_model.compile(loss=\"categorical_crossentropy\",\n",
    "                       optimizer=tf.keras.optimizers.Adam(),\n",
    "                       metrics=[\"accuracy\"])\n",
    "\n",
    "history_1 = Xception_model.fit(train_data,\n",
    "                               epochs=20,\n",
    "                               validation_data=valid_data,\n",
    "                               validation_steps=len(valid_data),\n",
    "                               callbacks=[Xception_checkpoint_callback, early_stopping])"
   ]
  },
  {
   "cell_type": "code",
   "execution_count": 5,
   "metadata": {},
   "outputs": [
    {
     "data": {
      "text/plain": [
       "<tensorflow.python.training.tracking.util.CheckpointLoadStatus at 0x22325b38280>"
      ]
     },
     "execution_count": 5,
     "metadata": {},
     "output_type": "execute_result"
    }
   ],
   "source": [
    "Xception_model.load_weights(checkpoint_filepath)"
   ]
  },
  {
   "cell_type": "code",
   "execution_count": null,
   "metadata": {},
   "outputs": [],
   "source": [
    "Xception_model.save(\"Xception_model.h5\")"
   ]
  },
  {
   "cell_type": "code",
   "execution_count": 7,
   "metadata": {},
   "outputs": [],
   "source": [
    "import matplotlib.pyplot as plt"
   ]
  },
  {
   "cell_type": "code",
   "execution_count": 8,
   "metadata": {},
   "outputs": [
    {
     "data": {
      "image/png": "[encoded data removed]",
      "text/plain": [
       "<Figure size 432x288 with 1 Axes>"
      ]
     },
     "metadata": {
      "needs_background": "light"
     },
     "output_type": "display_data"
    }
   ],
   "source": [
    "plt.plot(history_1.epoch, history_1.history[\"loss\"], \"y\", label=\"Training Loss\")\n",
    "plt.plot(history_1.epoch, history_1.history[\"val_loss\"], \"r\", label=\"Validation Loss\")\n",
    "plt.title(\"Training vs Validation Loss\")\n",
    "plt.xlabel(\"Epochs\")\n",
    "plt.ylabel(\"Loss\")\n",
    "plt.legend(loc=\"upper right\")\n",
    "plt.show()"
   ]
  },
  {
   "cell_type": "code",
   "execution_count": 9,
   "metadata": {},
   "outputs": [
    {
     "data": {
      "image/png": "[encoded data removed]",
      "text/plain": [
       "<Figure size 432x288 with 1 Axes>"
      ]
     },
     "metadata": {
      "needs_background": "light"
     },
     "output_type": "display_data"
    }
   ],
   "source": [
    "plt.plot(history_1.epoch, history_1.history[\"accuracy\"], \"y\", label=\"Training Accuracy\")\n",
    "plt.plot(history_1.epoch, history_1.history[\"val_accuracy\"], \"r\", label=\"Validation Accuracy\")\n",
    "plt.title(\"Training vs Validation Accuracy\")\n",
    "plt.xlabel(\"Epochs\")\n",
    "plt.ylabel(\"Accuracy\")\n",
    "plt.legend(loc=\"lower right\")\n",
    "plt.show()"
   ]
  }
 ],
 "metadata": {
  "interpreter": {
   "hash": "fb1492e6def891308ecbc0d3c1e81a09a0349f9b8052fb76570664c80f1546db"
  },
  "kernelspec": {
   "display_name": "Python 3.9.7 64-bit ('tf-gpu': conda)",
   "language": "python",
   "name": "python3"
  },
  "language_info": {
   "codemirror_mode": {
    "name": "ipython",
    "version": 3
   },
   "file_extension": ".py",
   "mimetype": "text/x-python",
   "name": "python",
   "nbconvert_exporter": "python",
   "pygments_lexer": "ipython3",
   "version": "3.9.7"
  },
  "orig_nbformat": 4
 },
 "nbformat": 4,
 "nbformat_minor": 2
}
