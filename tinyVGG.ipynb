{
 "cells": [
  {
   "cell_type": "code",
   "execution_count": 1,
   "metadata": {},
   "outputs": [
    {
     "name": "stdout",
     "output_type": "stream",
     "text": [
      "Found 12800 images belonging to 16 classes.\n",
      "Found 3200 images belonging to 16 classes.\n"
     ]
    }
   ],
   "source": [
    "import tensorflow as tf\n",
    "from tensorflow.keras.preprocessing.image import ImageDataGenerator\n",
    "\n",
    "# Set the seed\n",
    "tf.random.set_seed(42)\n",
    "\n",
    "# Preprocess data\n",
    "train_datagen = ImageDataGenerator(rescale=1./255)\n",
    "valid_datagen = ImageDataGenerator(rescale=1./255)\n",
    "\n",
    "# Setup the train and test directories\n",
    "train_dir = \"FRUIT-16K-PREPROCESSED/train/\" # 80% of FRUIT-16K\n",
    "test_dir = \"FRUIT-16K-PREPROCESSED/test/\" # 20% of FRUIT-16K\n",
    "\n",
    "# Import data from directories and turn it into batches\n",
    "train_data = train_datagen.flow_from_directory(train_dir,\n",
    "                                               batch_size=32,\n",
    "                                               target_size=(224, 224),\n",
    "                                               class_mode=\"categorical\",\n",
    "                                               seed=42)\n",
    "\n",
    "valid_data = valid_datagen.flow_from_directory(test_dir,\n",
    "                                               batch_size=32,\n",
    "                                               target_size=(224, 224),\n",
    "                                               class_mode=\"categorical\",\n",
    "                                               seed=42)"
   ]
  },
  {
   "cell_type": "code",
   "execution_count": 2,
   "metadata": {},
   "outputs": [],
   "source": [
    "checkpoint_filepath = 'tinyVGG_callbacks/'\n",
    "tinyVGG_checkpoint_callback = tf.keras.callbacks.ModelCheckpoint(\n",
    "        filepath=checkpoint_filepath,\n",
    "        save_weights_only=True,\n",
    "        monitor='val_accuracy',\n",
    "        mode='max',\n",
    "        save_best_only=True)"
   ]
  },
  {
   "cell_type": "code",
   "execution_count": 3,
   "metadata": {},
   "outputs": [],
   "source": [
    "# Setup EarlyStopping callback to stop training if model's val_loss doesn't improve for 3 epochs\n",
    "early_stopping = tf.keras.callbacks.EarlyStopping(monitor=\"val_loss\", # watch the val loss metric\n",
    "                                                  patience=3) # if val loss decreases for 3 epochs in a row, stop training"
   ]
  },
  {
   "cell_type": "code",
   "execution_count": 4,
   "metadata": {},
   "outputs": [
    {
     "name": "stdout",
     "output_type": "stream",
     "text": [
      "Epoch 1/10\n",
      "400/400 [==============================] - 19s 40ms/step - loss: 1.5310 - accuracy: 0.5104 - val_loss: 0.9462 - val_accuracy: 0.7044\n",
      "Epoch 2/10\n",
      "400/400 [==============================] - 16s 41ms/step - loss: 0.6678 - accuracy: 0.7880 - val_loss: 0.7899 - val_accuracy: 0.7681\n",
      "Epoch 3/10\n",
      "400/400 [==============================] - 16s 40ms/step - loss: 0.4088 - accuracy: 0.8676 - val_loss: 0.4903 - val_accuracy: 0.8509\n",
      "Epoch 4/10\n",
      "400/400 [==============================] - 16s 41ms/step - loss: 0.2655 - accuracy: 0.9148 - val_loss: 0.5481 - val_accuracy: 0.8472\n",
      "Epoch 5/10\n",
      "400/400 [==============================] - 16s 40ms/step - loss: 0.2635 - accuracy: 0.9178 - val_loss: 0.5819 - val_accuracy: 0.8413\n",
      "Epoch 6/10\n",
      "400/400 [==============================] - 16s 40ms/step - loss: 0.1265 - accuracy: 0.9596 - val_loss: 0.5113 - val_accuracy: 0.8622\n"
     ]
    }
   ],
   "source": [
    "# Create a CNN model (same as Tiny VGG - https://poloclub.github.io/cnn-explainer/)\n",
    "tinyVGG = tf.keras.models.Sequential([\n",
    "\ttf.keras.layers.Conv2D(filters=10, \n",
    "\t\t\t\t\t\t   kernel_size=3,\n",
    "\t\t\t\t\t\t   activation=\"relu\", \n",
    "\t\t\t\t\t\t   input_shape=(224, 224, 3)),\n",
    "\ttf.keras.layers.Conv2D(10, 3, activation=\"relu\"),\n",
    "\ttf.keras.layers.MaxPool2D(pool_size=2,\n",
    "\t\t\t\t\t\t\t  padding=\"valid\"),\n",
    "\ttf.keras.layers.Conv2D(10, 3, activation=\"relu\"),\n",
    "\ttf.keras.layers.Conv2D(10, 3, activation=\"relu\"),\n",
    "\ttf.keras.layers.MaxPool2D(2),\n",
    "\ttf.keras.layers.Flatten(),\n",
    "\ttf.keras.layers.Dense(16, activation=\"softmax\")\n",
    "])\n",
    "\n",
    "# Compile the model\n",
    "tinyVGG.compile(loss=\"categorical_crossentropy\",\n",
    "\t\t\t\toptimizer=tf.keras.optimizers.Adam(),\n",
    "\t\t\t\tmetrics=[\"accuracy\"])\n",
    "\n",
    "# Fit the model\n",
    "history_1 = tinyVGG.fit(train_data,\n",
    "\t\t\t\t\t\tepochs=10,\n",
    "\t\t\t\t\t\tvalidation_data=valid_data,\n",
    "\t\t\t\t\t\tvalidation_steps=len(valid_data),\n",
    "\t\t\t\t\t\tcallbacks=[tinyVGG_checkpoint_callback,\n",
    "\t\t\t\t\t\t\t\t   early_stopping])"
   ]
  },
  {
   "cell_type": "code",
   "execution_count": 5,
   "metadata": {},
   "outputs": [
    {
     "data": {
      "text/plain": [
       "<tensorflow.python.training.tracking.util.CheckpointLoadStatus at 0x1de23f3b160>"
      ]
     },
     "execution_count": 5,
     "metadata": {},
     "output_type": "execute_result"
    }
   ],
   "source": [
    "tinyVGG.load_weights(checkpoint_filepath)"
   ]
  },
  {
   "cell_type": "code",
   "execution_count": null,
   "metadata": {},
   "outputs": [],
   "source": [
    "tinyVGG.save(\"tinyVGG.h5\")"
   ]
  },
  {
   "cell_type": "code",
   "execution_count": 6,
   "metadata": {},
   "outputs": [],
   "source": [
    "import matplotlib.pyplot as plt"
   ]
  },
  {
   "cell_type": "code",
   "execution_count": 7,
   "metadata": {},
   "outputs": [
    {
     "data": {
      "image/png": "[encoded data removed]",
      "text/plain": [
       "<Figure size 432x288 with 1 Axes>"
      ]
     },
     "metadata": {
      "needs_background": "light"
     },
     "output_type": "display_data"
    }
   ],
   "source": [
    "plt.plot(history_1.epoch, history_1.history[\"loss\"], \"y\", label=\"Training Loss\")\n",
    "plt.plot(history_1.epoch, history_1.history[\"val_loss\"], \"r\", label=\"Validation Loss\")\n",
    "plt.title(\"Training vs Validation Loss\")\n",
    "plt.xlabel(\"Epochs\")\n",
    "plt.ylabel(\"Loss\")\n",
    "plt.legend(loc=\"upper right\")\n",
    "plt.show()"
   ]
  },
  {
   "cell_type": "code",
   "execution_count": 8,
   "metadata": {},
   "outputs": [
    {
     "data": {
      "image/png": "[encoded data removed]",
      "text/plain": [
       "<Figure size 432x288 with 1 Axes>"
      ]
     },
     "metadata": {
      "needs_background": "light"
     },
     "output_type": "display_data"
    }
   ],
   "source": [
    "plt.plot(history_1.epoch, history_1.history[\"accuracy\"], \"y\", label=\"Training Accuracy\")\n",
    "plt.plot(history_1.epoch, history_1.history[\"val_accuracy\"], \"r\", label=\"Validation Accuracy\")\n",
    "plt.title(\"Training vs Validation Accuracy\")\n",
    "plt.xlabel(\"Epochs\")\n",
    "plt.ylabel(\"Accuracy\")\n",
    "plt.legend(loc=\"lower right\")\n",
    "plt.show()"
   ]
  }
 ],
 "metadata": {
  "interpreter": {
   "hash": "fb1492e6def891308ecbc0d3c1e81a09a0349f9b8052fb76570664c80f1546db"
  },
  "kernelspec": {
   "display_name": "Python 3.9.7 64-bit ('tf-gpu': conda)",
   "language": "python",
   "name": "python3"
  },
  "language_info": {
   "codemirror_mode": {
    "name": "ipython",
    "version": 3
   },
   "file_extension": ".py",
   "mimetype": "text/x-python",
   "name": "python",
   "nbconvert_exporter": "python",
   "pygments_lexer": "ipython3",
   "version": "3.9.7"
  },
  "orig_nbformat": 4
 },
 "nbformat": 4,
 "nbformat_minor": 2
}
